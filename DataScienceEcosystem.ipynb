{
 "cells": [
  {
   "cell_type": "markdown",
   "id": "f3335cfd-f175-4892-95d0-f2a27ba59628",
   "metadata": {},
   "source": [
    "# Data Science Tools and Ecosystem"
   ]
  },
  {
   "cell_type": "markdown",
   "id": "8b748c69-4bae-45e1-abd2-3a91840739a7",
   "metadata": {},
   "source": [
    "In this notebook, Data Science Tools and Ecosystem are summarized."
   ]
  },
  {
   "cell_type": "markdown",
   "id": "a4ad4233-981e-47da-a8fc-b1aeb6817e91",
   "metadata": {},
   "source": [
    "**Objectives:**\n",
    "- List popular languages for Data Science\n",
    "- Explore key libraries used in Data Science\n",
    "- Introducing R and the Jupyter ecosystem\n",
    "- Using GitHub"
   ]
  },
  {
   "cell_type": "markdown",
   "id": "386beb23-832c-4a9d-b63e-95d95de5a455",
   "metadata": {},
   "source": [
    "## Author\n",
    "Johanna Diaz"
   ]
  },
  {
   "cell_type": "markdown",
   "id": "271560ac-44ac-476d-b492-926db2a66d6f",
   "metadata": {
    "jupyter": {
     "source_hidden": true
    }
   },
   "source": [
    "Some of the popular languages that Data Scientists use are:\n",
    "1. Python\n",
    "2. Java\n",
    "3. C++\n",
    "4. R\n",
    "5. Julia"
   ]
  },
  {
   "cell_type": "markdown",
   "id": "7672fc1b-3753-41f2-be90-afd4e33711c6",
   "metadata": {},
   "source": [
    "Some of the commonly used libraries used by Data Scientists include:\n",
    "1. NumPy\n",
    "2. Keras\n",
    "3. Pandas\n",
    "4. Matplotlib\n",
    "5. Scikit-Learn\n",
    "6. TensorFlow"
   ]
  },
  {
   "cell_type": "markdown",
   "id": "79ef26d7-84d3-489c-8c48-9c9499e1ad19",
   "metadata": {},
   "source": [
    "\n",
    "| Data Science Tools  |\n",
    "|---------------------|\n",
    "| Jupyter Notebook    |\n",
    "| RStudio             |\n",
    "| Apache Zeppelin     |"
   ]
  },
  {
   "cell_type": "markdown",
   "id": "12d5663e-2891-43b0-b6db-1ba9e6e06f57",
   "metadata": {},
   "source": [
    "### Below are a few examples of evaluating arithmetic expressions in Python"
   ]
  },
  {
   "cell_type": "code",
   "execution_count": 5,
   "id": "031e834c-0557-49bd-abc3-5b0d73428d8f",
   "metadata": {},
   "outputs": [
    {
     "data": {
      "text/plain": [
       "17"
      ]
     },
     "execution_count": 5,
     "metadata": {},
     "output_type": "execute_result"
    }
   ],
   "source": [
    "# This a simple arithmetic expression to mutiply then add integers\n",
    "(3*4)+5"
   ]
  },
  {
   "cell_type": "code",
   "execution_count": 3,
   "id": "40b95bbd-0169-4d3a-aafe-0b808b0ed222",
   "metadata": {},
   "outputs": [
    {
     "data": {
      "text/plain": [
       "3.3333333333333335"
      ]
     },
     "execution_count": 3,
     "metadata": {},
     "output_type": "execute_result"
    }
   ],
   "source": [
    "# This will convert 200 minutes to hours by diving by 60\n",
    "(200*1)/60"
   ]
  },
  {
   "cell_type": "code",
   "execution_count": null,
   "id": "a8b44e30-320e-4b74-873f-d0992998051f",
   "metadata": {},
   "outputs": [],
   "source": []
  }
 ],
 "metadata": {
  "kernelspec": {
   "display_name": "anaconda-2024.02-py310",
   "language": "python",
   "name": "conda-env-anaconda-2024.02-py310-py"
  },
  "language_info": {
   "codemirror_mode": {
    "name": "ipython",
    "version": 3
   },
   "file_extension": ".py",
   "mimetype": "text/x-python",
   "name": "python",
   "nbconvert_exporter": "python",
   "pygments_lexer": "ipython3",
   "version": "3.10.14"
  }
 },
 "nbformat": 4,
 "nbformat_minor": 5
}
